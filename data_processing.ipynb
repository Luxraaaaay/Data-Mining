{
 "cells": [
  {
   "cell_type": "markdown",
   "id": "f1bd821f",
   "metadata": {},
   "source": [
    "# XJCO2121 Data Mining - Coursework 2\n",
    "\n",
    "Author: Tang Shiyu\n",
    "\n",
    "Student ID: 2022116003"
   ]
  },
  {
   "cell_type": "code",
   "execution_count": 85,
   "id": "49c04574-0c85-4a47-858c-f964256ef58d",
   "metadata": {},
   "outputs": [],
   "source": [
    "import pandas as pd\n",
    "import chardet"
   ]
  },
  {
   "cell_type": "markdown",
   "id": "d49aee47",
   "metadata": {},
   "source": [
    "### This file is for data collecting and processing"
   ]
  },
  {
   "cell_type": "markdown",
   "id": "963c6d80",
   "metadata": {},
   "source": [
    "For AI-advertisement theme:"
   ]
  },
  {
   "cell_type": "code",
   "execution_count": 87,
   "id": "b627a12b",
   "metadata": {},
   "outputs": [
    {
     "name": "stdout",
     "output_type": "stream",
     "text": [
      "The number of data in Advertising Planning is 7514\n",
      "The number of data in Additional is 7744\n",
      "The number of data in Brand Marketing is 3739\n",
      "After deleting repeated data, the number of data is 10539\n"
     ]
    },
    {
     "data": {
      "text/html": [
       "<div>\n",
       "<style scoped>\n",
       "    .dataframe tbody tr th:only-of-type {\n",
       "        vertical-align: middle;\n",
       "    }\n",
       "\n",
       "    .dataframe tbody tr th {\n",
       "        vertical-align: top;\n",
       "    }\n",
       "\n",
       "    .dataframe thead th {\n",
       "        text-align: right;\n",
       "    }\n",
       "</style>\n",
       "<table border=\"1\" class=\"dataframe\">\n",
       "  <thead>\n",
       "    <tr style=\"text-align: right;\">\n",
       "      <th></th>\n",
       "      <th>comment_id</th>\n",
       "      <th>create_time</th>\n",
       "      <th>content</th>\n",
       "      <th>nickname</th>\n",
       "      <th>sub_comment_count</th>\n",
       "      <th>like_count</th>\n",
       "      <th>sentiment</th>\n",
       "    </tr>\n",
       "  </thead>\n",
       "  <tbody>\n",
       "    <tr>\n",
       "      <th>0</th>\n",
       "      <td>667408e60000000017012a2a</td>\n",
       "      <td>1718880488000</td>\n",
       "      <td>还好我boss不懂看我出单还表扬我了</td>\n",
       "      <td>木子</td>\n",
       "      <td>131.0</td>\n",
       "      <td>31.0</td>\n",
       "      <td>negative</td>\n",
       "    </tr>\n",
       "    <tr>\n",
       "      <th>1</th>\n",
       "      <td>66596c33000000000f0077bc</td>\n",
       "      <td>1717136435000</td>\n",
       "      <td>做的好棒！</td>\n",
       "      <td>豆花要加糖</td>\n",
       "      <td>4.0</td>\n",
       "      <td>2.0</td>\n",
       "      <td>positive</td>\n",
       "    </tr>\n",
       "    <tr>\n",
       "      <th>2</th>\n",
       "      <td>665961c1000000000e033c6c</td>\n",
       "      <td>1717133762000</td>\n",
       "      <td>真诚发问这个豆奶口感咋样好喝吗早八人很需要啊宝子</td>\n",
       "      <td>小红薯62E23D58</td>\n",
       "      <td>3.0</td>\n",
       "      <td>2.0</td>\n",
       "      <td>positive</td>\n",
       "    </tr>\n",
       "    <tr>\n",
       "      <th>3</th>\n",
       "      <td>667978b100000000150082e2</td>\n",
       "      <td>1719236785000</td>\n",
       "      <td>求分享</td>\n",
       "      <td>捞起月亮的渔民</td>\n",
       "      <td>1.0</td>\n",
       "      <td>0.0</td>\n",
       "      <td>positive</td>\n",
       "    </tr>\n",
       "    <tr>\n",
       "      <th>4</th>\n",
       "      <td>665975d0000000001b007630</td>\n",
       "      <td>1717138897000</td>\n",
       "      <td>哇塞你们画的也太多了吧</td>\n",
       "      <td>小红薯63E82F05</td>\n",
       "      <td>3.0</td>\n",
       "      <td>1.0</td>\n",
       "      <td>negative</td>\n",
       "    </tr>\n",
       "  </tbody>\n",
       "</table>\n",
       "</div>"
      ],
      "text/plain": [
       "                 comment_id    create_time                   content     nickname  sub_comment_count  like_count sentiment\n",
       "0  667408e60000000017012a2a  1718880488000        还好我boss不懂看我出单还表扬我了           木子              131.0        31.0  negative\n",
       "1  66596c33000000000f0077bc  1717136435000                     做的好棒！        豆花要加糖                4.0         2.0  positive\n",
       "2  665961c1000000000e033c6c  1717133762000  真诚发问这个豆奶口感咋样好喝吗早八人很需要啊宝子  小红薯62E23D58                3.0         2.0  positive\n",
       "3  667978b100000000150082e2  1719236785000                       求分享      捞起月亮的渔民                1.0         0.0  positive\n",
       "4  665975d0000000001b007630  1717138897000               哇塞你们画的也太多了吧  小红薯63E82F05                3.0         1.0  negative"
      ]
     },
     "execution_count": 87,
     "metadata": {},
     "output_type": "execute_result"
    }
   ],
   "source": [
    "files = ['Advertising Planning', 'Additional', 'Brand Marketing']\n",
    "dfs = []\n",
    "\n",
    "for file in files:\n",
    "    # Find the encoding of the file\n",
    "    with open(f'data/ai-Advertisement/Comments-{file}.csv', 'rb') as f:\n",
    "        result = chardet.detect(f.read())\n",
    "    # Read the data\n",
    "    df = pd.read_csv(f'data/ai-Advertisement/Comments-{file}.csv', encoding=result['encoding'], encoding_errors='replace')\n",
    "    # Check the data\n",
    "    print(f'The number of data in {file} is {len(df)}')\n",
    "    # Delete the unneeded columns\n",
    "    df = df.drop(columns=['ip_location', 'note_id', 'user_id', 'avatar', 'pictures', 'parent_comment_id', 'last_modify_ts'])\n",
    "    dfs.append(df)\n",
    "# Merging all data in this theme\n",
    "df_ad = pd.concat(dfs)\n",
    "# Delete the data with the same comment_id\n",
    "df_ad = df_ad.drop_duplicates(subset=['comment_id'])\n",
    "print(f'After deleting repeated data, the number of data is {len(df_ad)}')\n",
    "df_ad.head()"
   ]
  },
  {
   "cell_type": "code",
   "execution_count": null,
   "id": "f7196bdc",
   "metadata": {},
   "outputs": [],
   "source": []
  }
 ],
 "metadata": {
  "kernelspec": {
   "display_name": "base",
   "language": "python",
   "name": "python3"
  },
  "language_info": {
   "codemirror_mode": {
    "name": "ipython",
    "version": 3
   },
   "file_extension": ".py",
   "mimetype": "text/x-python",
   "name": "python",
   "nbconvert_exporter": "python",
   "pygments_lexer": "ipython3",
   "version": "3.10.15"
  }
 },
 "nbformat": 4,
 "nbformat_minor": 5
}

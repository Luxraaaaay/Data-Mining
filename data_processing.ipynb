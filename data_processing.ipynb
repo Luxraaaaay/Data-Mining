{
 "cells": [
  {
   "cell_type": "markdown",
   "id": "f1bd821f",
   "metadata": {},
   "source": [
    "# XJCO2121 Data Mining - Coursework 2\n",
    "\n",
    "Author: Tang Shiyu\n",
    "\n",
    "Student ID: 2022116003"
   ]
  },
  {
   "cell_type": "code",
   "execution_count": 26,
   "id": "49c04574-0c85-4a47-858c-f964256ef58d",
   "metadata": {},
   "outputs": [],
   "source": [
    "import pandas as pd\n",
    "import chardet\n",
    "import matplotlib.pyplot as plt\n",
    "import seaborn as sns\n",
    "import jieba\n",
    "from sklearn.feature_extraction.text import TfidfVectorizer\n",
    "from sklearn.model_selection import train_test_split\n",
    "from sklearn.naive_bayes import MultinomialNB\n",
    "from sklearn.metrics import classification_report, accuracy_score, confusion_matrix"
   ]
  },
  {
   "cell_type": "code",
   "execution_count": 27,
   "id": "693265be",
   "metadata": {},
   "outputs": [],
   "source": [
    "# Add Chinese stopwords set\n",
    "stopwords = set()\n",
    "stopword_files = ['baidu_stopwords', 'cn_stopwords', 'hit_stopwords', 'scu_stopwords']\n",
    "for file in stopword_files:\n",
    "    with open(f'stopwords-master/{file}.txt', 'r', encoding='utf-8') as f:\n",
    "        for line in f:\n",
    "            word = line.strip()\n",
    "            if word:\n",
    "                stopwords.add(word)\n",
    "\n",
    "def preprocess_text_zh(text):\n",
    "    # Use jieba to cut the words\n",
    "    words = jieba.lcut(text)\n",
    "    filtered_words = [word for word in words if word not in stopwords and len(word.strip()) > 0]\n",
    "    return ' '.join(filtered_words)\n",
    "\n",
    "# Define the text divider\n",
    "def tokenizer(text):\n",
    "    return jieba.lcut(text)"
   ]
  },
  {
   "cell_type": "markdown",
   "id": "d49aee47",
   "metadata": {},
   "source": [
    "### This file is for data collecting and processing"
   ]
  },
  {
   "cell_type": "markdown",
   "id": "963c6d80",
   "metadata": {},
   "source": [
    "For AI-advertisement theme:"
   ]
  },
  {
   "cell_type": "code",
   "execution_count": 28,
   "id": "b627a12b",
   "metadata": {},
   "outputs": [
    {
     "name": "stdout",
     "output_type": "stream",
     "text": [
      "The number of data in Advertising Planning is 7514\n",
      "The number of data in Additional is 7744\n",
      "The number of data in Brand Marketing is 3739\n",
      "After deleting repeated data, the number of data is 10539\n"
     ]
    },
    {
     "data": {
      "text/html": [
       "<div>\n",
       "<style scoped>\n",
       "    .dataframe tbody tr th:only-of-type {\n",
       "        vertical-align: middle;\n",
       "    }\n",
       "\n",
       "    .dataframe tbody tr th {\n",
       "        vertical-align: top;\n",
       "    }\n",
       "\n",
       "    .dataframe thead th {\n",
       "        text-align: right;\n",
       "    }\n",
       "</style>\n",
       "<table border=\"1\" class=\"dataframe\">\n",
       "  <thead>\n",
       "    <tr style=\"text-align: right;\">\n",
       "      <th></th>\n",
       "      <th>comment_id</th>\n",
       "      <th>create_time</th>\n",
       "      <th>content</th>\n",
       "      <th>nickname</th>\n",
       "      <th>sub_comment_count</th>\n",
       "      <th>like_count</th>\n",
       "      <th>sentiment</th>\n",
       "    </tr>\n",
       "  </thead>\n",
       "  <tbody>\n",
       "    <tr>\n",
       "      <th>0</th>\n",
       "      <td>667408e60000000017012a2a</td>\n",
       "      <td>1718880488000</td>\n",
       "      <td>还好我boss不懂看我出单还表扬我了</td>\n",
       "      <td>木子</td>\n",
       "      <td>131.0</td>\n",
       "      <td>31.0</td>\n",
       "      <td>negative</td>\n",
       "    </tr>\n",
       "    <tr>\n",
       "      <th>1</th>\n",
       "      <td>66596c33000000000f0077bc</td>\n",
       "      <td>1717136435000</td>\n",
       "      <td>做的好棒！</td>\n",
       "      <td>豆花要加糖</td>\n",
       "      <td>4.0</td>\n",
       "      <td>2.0</td>\n",
       "      <td>positive</td>\n",
       "    </tr>\n",
       "    <tr>\n",
       "      <th>2</th>\n",
       "      <td>665961c1000000000e033c6c</td>\n",
       "      <td>1717133762000</td>\n",
       "      <td>真诚发问这个豆奶口感咋样好喝吗早八人很需要啊宝子</td>\n",
       "      <td>小红薯62E23D58</td>\n",
       "      <td>3.0</td>\n",
       "      <td>2.0</td>\n",
       "      <td>positive</td>\n",
       "    </tr>\n",
       "    <tr>\n",
       "      <th>3</th>\n",
       "      <td>667978b100000000150082e2</td>\n",
       "      <td>1719236785000</td>\n",
       "      <td>求分享</td>\n",
       "      <td>捞起月亮的渔民</td>\n",
       "      <td>1.0</td>\n",
       "      <td>0.0</td>\n",
       "      <td>positive</td>\n",
       "    </tr>\n",
       "    <tr>\n",
       "      <th>4</th>\n",
       "      <td>665975d0000000001b007630</td>\n",
       "      <td>1717138897000</td>\n",
       "      <td>哇塞你们画的也太多了吧</td>\n",
       "      <td>小红薯63E82F05</td>\n",
       "      <td>3.0</td>\n",
       "      <td>1.0</td>\n",
       "      <td>negative</td>\n",
       "    </tr>\n",
       "  </tbody>\n",
       "</table>\n",
       "</div>"
      ],
      "text/plain": [
       "                 comment_id    create_time                   content  \\\n",
       "0  667408e60000000017012a2a  1718880488000        还好我boss不懂看我出单还表扬我了   \n",
       "1  66596c33000000000f0077bc  1717136435000                     做的好棒！   \n",
       "2  665961c1000000000e033c6c  1717133762000  真诚发问这个豆奶口感咋样好喝吗早八人很需要啊宝子   \n",
       "3  667978b100000000150082e2  1719236785000                       求分享   \n",
       "4  665975d0000000001b007630  1717138897000               哇塞你们画的也太多了吧   \n",
       "\n",
       "      nickname  sub_comment_count  like_count sentiment  \n",
       "0           木子              131.0        31.0  negative  \n",
       "1        豆花要加糖                4.0         2.0  positive  \n",
       "2  小红薯62E23D58                3.0         2.0  positive  \n",
       "3      捞起月亮的渔民                1.0         0.0  positive  \n",
       "4  小红薯63E82F05                3.0         1.0  negative  "
      ]
     },
     "metadata": {},
     "output_type": "display_data"
    },
    {
     "name": "stdout",
     "output_type": "stream",
     "text": [
      "<class 'pandas.core.frame.DataFrame'>\n",
      "Index: 10539 entries, 0 to 3704\n",
      "Data columns (total 7 columns):\n",
      " #   Column             Non-Null Count  Dtype  \n",
      "---  ------             --------------  -----  \n",
      " 0   comment_id         10539 non-null  object \n",
      " 1   create_time        10539 non-null  int64  \n",
      " 2   content            10539 non-null  object \n",
      " 3   nickname           10539 non-null  object \n",
      " 4   sub_comment_count  10539 non-null  float64\n",
      " 5   like_count         10539 non-null  float64\n",
      " 6   sentiment          10539 non-null  object \n",
      "dtypes: float64(2), int64(1), object(4)\n",
      "memory usage: 658.7+ KB\n"
     ]
    },
    {
     "data": {
      "text/plain": [
       "None"
      ]
     },
     "metadata": {},
     "output_type": "display_data"
    },
    {
     "data": {
      "text/html": [
       "<div>\n",
       "<style scoped>\n",
       "    .dataframe tbody tr th:only-of-type {\n",
       "        vertical-align: middle;\n",
       "    }\n",
       "\n",
       "    .dataframe tbody tr th {\n",
       "        vertical-align: top;\n",
       "    }\n",
       "\n",
       "    .dataframe thead th {\n",
       "        text-align: right;\n",
       "    }\n",
       "</style>\n",
       "<table border=\"1\" class=\"dataframe\">\n",
       "  <thead>\n",
       "    <tr style=\"text-align: right;\">\n",
       "      <th></th>\n",
       "      <th>create_time</th>\n",
       "      <th>sub_comment_count</th>\n",
       "      <th>like_count</th>\n",
       "    </tr>\n",
       "  </thead>\n",
       "  <tbody>\n",
       "    <tr>\n",
       "      <th>count</th>\n",
       "      <td>1.053900e+04</td>\n",
       "      <td>10539.000000</td>\n",
       "      <td>10539.000000</td>\n",
       "    </tr>\n",
       "    <tr>\n",
       "      <th>mean</th>\n",
       "      <td>1.716603e+12</td>\n",
       "      <td>0.492741</td>\n",
       "      <td>4.038808</td>\n",
       "    </tr>\n",
       "    <tr>\n",
       "      <th>std</th>\n",
       "      <td>1.244362e+10</td>\n",
       "      <td>5.515641</td>\n",
       "      <td>123.713814</td>\n",
       "    </tr>\n",
       "    <tr>\n",
       "      <th>min</th>\n",
       "      <td>1.640227e+12</td>\n",
       "      <td>0.000000</td>\n",
       "      <td>0.000000</td>\n",
       "    </tr>\n",
       "    <tr>\n",
       "      <th>25%</th>\n",
       "      <td>1.711402e+12</td>\n",
       "      <td>0.000000</td>\n",
       "      <td>0.000000</td>\n",
       "    </tr>\n",
       "    <tr>\n",
       "      <th>50%</th>\n",
       "      <td>1.719459e+12</td>\n",
       "      <td>0.000000</td>\n",
       "      <td>0.000000</td>\n",
       "    </tr>\n",
       "    <tr>\n",
       "      <th>75%</th>\n",
       "      <td>1.726363e+12</td>\n",
       "      <td>1.000000</td>\n",
       "      <td>1.000000</td>\n",
       "    </tr>\n",
       "    <tr>\n",
       "      <th>max</th>\n",
       "      <td>1.728960e+12</td>\n",
       "      <td>427.000000</td>\n",
       "      <td>8803.000000</td>\n",
       "    </tr>\n",
       "  </tbody>\n",
       "</table>\n",
       "</div>"
      ],
      "text/plain": [
       "        create_time  sub_comment_count    like_count\n",
       "count  1.053900e+04       10539.000000  10539.000000\n",
       "mean   1.716603e+12           0.492741      4.038808\n",
       "std    1.244362e+10           5.515641    123.713814\n",
       "min    1.640227e+12           0.000000      0.000000\n",
       "25%    1.711402e+12           0.000000      0.000000\n",
       "50%    1.719459e+12           0.000000      0.000000\n",
       "75%    1.726363e+12           1.000000      1.000000\n",
       "max    1.728960e+12         427.000000   8803.000000"
      ]
     },
     "metadata": {},
     "output_type": "display_data"
    }
   ],
   "source": [
    "files = ['Advertising Planning', 'Additional', 'Brand Marketing']\n",
    "dfs = []\n",
    "\n",
    "for file in files:\n",
    "    # Find the encoding of the file\n",
    "    with open(f'data/ai-Advertisement/Comments-{file}.csv', 'rb') as f:\n",
    "        result = chardet.detect(f.read())\n",
    "    # Read the data\n",
    "    df = pd.read_csv(f'data/ai-Advertisement/Comments-{file}.csv', encoding=result['encoding'], encoding_errors='replace')\n",
    "    # Check the data\n",
    "    print(f'The number of data in {file} is {len(df)}')\n",
    "    # Delete the unneeded columns\n",
    "    df = df.drop(columns=['ip_location', 'note_id', 'user_id', 'avatar', 'pictures', 'parent_comment_id', 'last_modify_ts'])\n",
    "    dfs.append(df)\n",
    "# Merging all data in this theme\n",
    "df_ad = pd.concat(dfs)\n",
    "# Delete the data with the same comment_id\n",
    "df_ad = df_ad.drop_duplicates(subset=['comment_id'])\n",
    "print(f'After deleting repeated data, the number of data is {len(df_ad)}')\n",
    "# Fill in the missing nickname\n",
    "df_ad = df_ad.fillna('匿名用户')\n",
    "display(df_ad.head())\n",
    "display(df_ad.info())\n",
    "display(df_ad.describe())"
   ]
  },
  {
   "cell_type": "code",
   "execution_count": 29,
   "id": "f7196bdc",
   "metadata": {},
   "outputs": [
    {
     "name": "stdout",
     "output_type": "stream",
     "text": [
      "sentiment\n",
      "negative    5449\n",
      "positive    5090\n",
      "Name: count, dtype: int64\n"
     ]
    },
    {
     "data": {
      "image/png": "[encoded data removed]",
      "text/plain": [
       "<Figure size 800x600 with 1 Axes>"
      ]
     },
     "metadata": {},
     "output_type": "display_data"
    }
   ],
   "source": [
    "# Check the distribution of the sentiment\n",
    "sentiment_distribution = df_ad['sentiment'].value_counts()\n",
    "print(sentiment_distribution)\n",
    "\n",
    "plt.figure(figsize=(8,6))\n",
    "sns.countplot(x='sentiment', data=df)\n",
    "plt.title('Sentiment Distribution')\n",
    "plt.show()"
   ]
  },
  {
   "cell_type": "code",
   "execution_count": 30,
   "id": "fdc792f1",
   "metadata": {},
   "outputs": [],
   "source": [
    "df_ad['processed_content'] = df_ad['content'].apply(preprocess_text_zh)\n",
    "# Process the TF-IDF vectors\n",
    "vectorizer = TfidfVectorizer(analyzer='word', tokenizer=tokenizer, token_pattern=None, max_features=5000)\n",
    "X = vectorizer.fit_transform(df_ad['processed_content'])"
   ]
  },
  {
   "cell_type": "code",
   "execution_count": 33,
   "id": "f087650f",
   "metadata": {},
   "outputs": [
    {
     "name": "stdout",
     "output_type": "stream",
     "text": [
      "Accuracy: 0.8614800759013282\n",
      "\n",
      "Classification Report:\n",
      "               precision    recall  f1-score   support\n",
      "\n",
      "    negative       0.86      0.88      0.87      1071\n",
      "    positive       0.87      0.85      0.86      1037\n",
      "\n",
      "    accuracy                           0.86      2108\n",
      "   macro avg       0.86      0.86      0.86      2108\n",
      "weighted avg       0.86      0.86      0.86      2108\n",
      "\n",
      "\n",
      "Confusion Matrix:\n",
      " [[938 133]\n",
      " [159 878]]\n"
     ]
    }
   ],
   "source": [
    "# Split the training set and the test set\n",
    "X_train, X_test, y_train, y_test = train_test_split(X, df_ad['sentiment'], test_size=0.2, random_state=1)\n",
    "# Train the model\n",
    "classifier = MultinomialNB()\n",
    "classifier.fit(X_train, y_train)\n",
    "# Test the model\n",
    "predictions = classifier.predict(X_test)\n",
    "print(\"Accuracy:\", accuracy_score(y_test, predictions))\n",
    "print(\"\\nClassification Report:\\n\", classification_report(y_test, predictions))\n",
    "print(\"\\nConfusion Matrix:\\n\", confusion_matrix(y_test, predictions))"
   ]
  },
  {
   "cell_type": "code",
   "execution_count": 34,
   "id": "63d41c73",
   "metadata": {},
   "outputs": [
    {
     "data": {
      "image/png": "[encoded data removed]",
      "text/plain": [
       "<Figure size 640x480 with 2 Axes>"
      ]
     },
     "metadata": {},
     "output_type": "display_data"
    }
   ],
   "source": [
    "conf_matrix = confusion_matrix(y_test, predictions)\n",
    "sns.heatmap(conf_matrix, annot=True, fmt='d', cmap='Blues')\n",
    "plt.title('Confusion Matrix')\n",
    "plt.xlabel('Predicted')\n",
    "plt.ylabel('Actual')\n",
    "plt.show()"
   ]
  }
 ],
 "metadata": {
  "kernelspec": {
   "display_name": "base",
   "language": "python",
   "name": "python3"
  },
  "language_info": {
   "codemirror_mode": {
    "name": "ipython",
    "version": 3
   },
   "file_extension": ".py",
   "mimetype": "text/x-python",
   "name": "python",
   "nbconvert_exporter": "python",
   "pygments_lexer": "ipython3",
   "version": "3.10.15"
  }
 },
 "nbformat": 4,
 "nbformat_minor": 5
}
